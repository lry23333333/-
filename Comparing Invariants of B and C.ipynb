{
 "cells": [
  {
   "cell_type": "code",
   "execution_count": 1,
   "id": "a20b1e7c",
   "metadata": {},
   "outputs": [],
   "source": [
    "# In this notebook we show that the Invariants of the Right and Left Cauchy-Green Deformation Tensor are equal."
   ]
  },
  {
   "cell_type": "code",
   "execution_count": null,
   "id": "7dfa356a",
   "metadata": {},
   "outputs": [],
   "source": [
    "import sympy as sym"
   ]
  },
  {
   "cell_type": "code",
   "execution_count": 2,
   "id": "d2dc4f14",
   "metadata": {},
   "outputs": [],
   "source": [
    "F11 = sym.Symbol('F11') \n",
    "F12 = sym.Symbol('F12')\n",
    "F13 = sym.Symbol('F13')\n",
    "F21 = sym.Symbol('F21')\n",
    "F22 = sym.Symbol('F22')\n",
    "F23 = sym.Symbol('F23')\n",
    "F31 = sym.Symbol('F31')\n",
    "F32 = sym.Symbol('F32')\n",
    "F33 = sym.Symbol('F33')\n",
    "F = sym.Matrix([[F11,F12,F13], [F21,F22,F23], [F31,F32,F33]])\n",
    "Ft=sym.transpose(F)\n",
    "    \n",
    "B = F*Ft\n",
    "C = Ft*F\n",
    "\n",
    "i1b=sym.trace(B)\n",
    "i2b = B[0,0]*B[1,1] + B[1,1]*B[2,2] + B[2,2]*B[0,0] - B[0,1]**2 - B[1,2]**2 - B[2,0]**2\n",
    "\n",
    "i1c = sym.trace(C)\n",
    "i2c = C[0,0]*C[1,1] + C[1,1]*C[2,2] + C[2,2]*C[0,0] - C[0,1]**2 - C[1,2]**2 - C[2,0]**2"
   ]
  },
  {
   "cell_type": "code",
   "execution_count": 3,
   "id": "3c5a038e",
   "metadata": {},
   "outputs": [
    {
     "data": {
      "text/latex": [
       "$\\displaystyle F_{11}^{2} + F_{12}^{2} + F_{13}^{2} + F_{21}^{2} + F_{22}^{2} + F_{23}^{2} + F_{31}^{2} + F_{32}^{2} + F_{33}^{2}$"
      ],
      "text/plain": [
       "F11**2 + F12**2 + F13**2 + F21**2 + F22**2 + F23**2 + F31**2 + F32**2 + F33**2"
      ]
     },
     "execution_count": 3,
     "metadata": {},
     "output_type": "execute_result"
    }
   ],
   "source": [
    "i1b"
   ]
  },
  {
   "cell_type": "code",
   "execution_count": 4,
   "id": "b16fc15c",
   "metadata": {},
   "outputs": [
    {
     "data": {
      "text/latex": [
       "$\\displaystyle F_{11}^{2} + F_{12}^{2} + F_{13}^{2} + F_{21}^{2} + F_{22}^{2} + F_{23}^{2} + F_{31}^{2} + F_{32}^{2} + F_{33}^{2}$"
      ],
      "text/plain": [
       "F11**2 + F12**2 + F13**2 + F21**2 + F22**2 + F23**2 + F31**2 + F32**2 + F33**2"
      ]
     },
     "execution_count": 4,
     "metadata": {},
     "output_type": "execute_result"
    }
   ],
   "source": [
    "i1c"
   ]
  },
  {
   "cell_type": "code",
   "execution_count": 5,
   "id": "4ad7223d",
   "metadata": {},
   "outputs": [
    {
     "data": {
      "text/latex": [
       "$\\displaystyle \\left(F_{11}^{2} + F_{12}^{2} + F_{13}^{2}\\right) \\left(F_{21}^{2} + F_{22}^{2} + F_{23}^{2}\\right) + \\left(F_{11}^{2} + F_{12}^{2} + F_{13}^{2}\\right) \\left(F_{31}^{2} + F_{32}^{2} + F_{33}^{2}\\right) + \\left(F_{21}^{2} + F_{22}^{2} + F_{23}^{2}\\right) \\left(F_{31}^{2} + F_{32}^{2} + F_{33}^{2}\\right) - \\left(F_{11} F_{21} + F_{12} F_{22} + F_{13} F_{23}\\right)^{2} - \\left(F_{11} F_{31} + F_{12} F_{32} + F_{13} F_{33}\\right)^{2} - \\left(F_{21} F_{31} + F_{22} F_{32} + F_{23} F_{33}\\right)^{2}$"
      ],
      "text/plain": [
       "(F11**2 + F12**2 + F13**2)*(F21**2 + F22**2 + F23**2) + (F11**2 + F12**2 + F13**2)*(F31**2 + F32**2 + F33**2) + (F21**2 + F22**2 + F23**2)*(F31**2 + F32**2 + F33**2) - (F11*F21 + F12*F22 + F13*F23)**2 - (F11*F31 + F12*F32 + F13*F33)**2 - (F21*F31 + F22*F32 + F23*F33)**2"
      ]
     },
     "execution_count": 5,
     "metadata": {},
     "output_type": "execute_result"
    }
   ],
   "source": [
    "i2b"
   ]
  },
  {
   "cell_type": "code",
   "execution_count": 6,
   "id": "05282a2e",
   "metadata": {},
   "outputs": [
    {
     "data": {
      "text/latex": [
       "$\\displaystyle \\left(F_{11}^{2} + F_{21}^{2} + F_{31}^{2}\\right) \\left(F_{12}^{2} + F_{22}^{2} + F_{32}^{2}\\right) + \\left(F_{11}^{2} + F_{21}^{2} + F_{31}^{2}\\right) \\left(F_{13}^{2} + F_{23}^{2} + F_{33}^{2}\\right) + \\left(F_{12}^{2} + F_{22}^{2} + F_{32}^{2}\\right) \\left(F_{13}^{2} + F_{23}^{2} + F_{33}^{2}\\right) - \\left(F_{11} F_{12} + F_{21} F_{22} + F_{31} F_{32}\\right)^{2} - \\left(F_{11} F_{13} + F_{21} F_{23} + F_{31} F_{33}\\right)^{2} - \\left(F_{12} F_{13} + F_{22} F_{23} + F_{32} F_{33}\\right)^{2}$"
      ],
      "text/plain": [
       "(F11**2 + F21**2 + F31**2)*(F12**2 + F22**2 + F32**2) + (F11**2 + F21**2 + F31**2)*(F13**2 + F23**2 + F33**2) + (F12**2 + F22**2 + F32**2)*(F13**2 + F23**2 + F33**2) - (F11*F12 + F21*F22 + F31*F32)**2 - (F11*F13 + F21*F23 + F31*F33)**2 - (F12*F13 + F22*F23 + F32*F33)**2"
      ]
     },
     "execution_count": 6,
     "metadata": {},
     "output_type": "execute_result"
    }
   ],
   "source": [
    "i2c"
   ]
  },
  {
   "cell_type": "code",
   "execution_count": 7,
   "id": "190d27e3",
   "metadata": {},
   "outputs": [],
   "source": [
    "# i2b and i2c appear to be different, but let's try an example with an assymetric matrix F\n",
    "\n",
    "F11v=1\n",
    "F12v=0.495\n",
    "F13v=0.5\n",
    "F21v=-0.333\n",
    "F22v=1\n",
    "F23v=-0.247\n",
    "F31v=0.959\n",
    "F32v=0\n",
    "F33v=1.5\n",
    "\n",
    "B=B.subs([(F11, F11v), (F12, F12v), \n",
    "                                  (F13, F13v),(F21, F21v), \n",
    "                                  (F22, F22v), (F23, F23v),\n",
    "                                  (F31, F31v), (F32, F32v), \n",
    "                                  (F33, F33v)])\n",
    "\n",
    "C=C.subs([(F11, F11v), (F12, F12v), \n",
    "                                  (F13, F13v),(F21, F21v), \n",
    "                                  (F22, F22v), (F23, F23v),\n",
    "                                  (F31, F31v), (F32, F32v), \n",
    "                                  (F33, F33v)])"
   ]
  },
  {
   "cell_type": "code",
   "execution_count": 8,
   "id": "adfd56dc",
   "metadata": {},
   "outputs": [
    {
     "data": {
      "text/latex": [
       "$\\displaystyle \\left[\\begin{matrix}1.495025 & 0.0385 & 1.709\\\\0.0385 & 1.171898 & -0.689847\\\\1.709 & -0.689847 & 3.169681\\end{matrix}\\right]$"
      ],
      "text/plain": [
       "Matrix([\n",
       "[1.495025,    0.0385,     1.709],\n",
       "[  0.0385,  1.171898, -0.689847],\n",
       "[   1.709, -0.689847,  3.169681]])"
      ]
     },
     "execution_count": 8,
     "metadata": {},
     "output_type": "execute_result"
    }
   ],
   "source": [
    "B"
   ]
  },
  {
   "cell_type": "code",
   "execution_count": 9,
   "id": "38272810",
   "metadata": {},
   "outputs": [
    {
     "data": {
      "text/latex": [
       "$\\displaystyle \\left[\\begin{matrix}2.03057 & 0.162 & 2.020751\\\\0.162 & 1.245025 & 0.0005\\\\2.020751 & 0.0005 & 2.561009\\end{matrix}\\right]$"
      ],
      "text/plain": [
       "Matrix([\n",
       "[ 2.03057,    0.162, 2.020751],\n",
       "[   0.162, 1.245025,   0.0005],\n",
       "[2.020751,   0.0005, 2.561009]])"
      ]
     },
     "execution_count": 9,
     "metadata": {},
     "output_type": "execute_result"
    }
   ],
   "source": [
    "C"
   ]
  },
  {
   "cell_type": "code",
   "execution_count": 10,
   "id": "bc2b816a",
   "metadata": {},
   "outputs": [],
   "source": [
    "i1b=sym.trace(B)\n",
    "i2b = B[0,0]*B[1,1] + B[1,1]*B[2,2] + B[2,2]*B[0,0] - B[0,1]**2 - B[1,2]**2 - B[2,0]**2\n",
    "\n",
    "i1c = sym.trace(C)\n",
    "i2c = C[0,0]*C[1,1] + C[1,1]*C[2,2] + C[2,2]*C[0,0] - C[0,1]**2 - C[1,2]**2 - C[2,0]**2"
   ]
  },
  {
   "cell_type": "code",
   "execution_count": 11,
   "id": "fe45befa",
   "metadata": {},
   "outputs": [
    {
     "data": {
      "text/latex": [
       "$\\displaystyle 6.807259835604$"
      ],
      "text/plain": [
       "6.80725983560400"
      ]
     },
     "execution_count": 11,
     "metadata": {},
     "output_type": "execute_result"
    }
   ],
   "source": [
    "i2b"
   ]
  },
  {
   "cell_type": "code",
   "execution_count": 12,
   "id": "a6c93721",
   "metadata": {},
   "outputs": [
    {
     "data": {
      "text/latex": [
       "$\\displaystyle 6.807259835604$"
      ],
      "text/plain": [
       "6.80725983560400"
      ]
     },
     "execution_count": 12,
     "metadata": {},
     "output_type": "execute_result"
    }
   ],
   "source": [
    "i2c"
   ]
  },
  {
   "cell_type": "code",
   "execution_count": null,
   "id": "bc5cf2b8",
   "metadata": {},
   "outputs": [],
   "source": []
  },
  {
   "cell_type": "code",
   "execution_count": 13,
   "id": "a2d37d71",
   "metadata": {},
   "outputs": [],
   "source": [
    "# In fact it is easily seen that i2b and i2c must be equal, because the invariants do not vary with matrix rotations.\n",
    "# If F is on its principal orientation, F11 = l1; F22 = l2; F33 = l3; Other components = 0\n",
    "\n",
    "l1 = sym.Symbol('l1')\n",
    "l2 = sym.Symbol('l2')\n",
    "l3 = sym.Symbol('l3')"
   ]
  },
  {
   "cell_type": "code",
   "execution_count": 14,
   "id": "5e8e146e",
   "metadata": {},
   "outputs": [],
   "source": [
    "F = F.subs([(F11,l1), (F22,l2), (F33, l3), (F12, 0), (F13,0), (F23,0), (F21,0), (F31,0), (F32,0)])\n",
    "Ft=sym.transpose(F)"
   ]
  },
  {
   "cell_type": "code",
   "execution_count": 15,
   "id": "0933c748",
   "metadata": {},
   "outputs": [
    {
     "data": {
      "text/latex": [
       "$\\displaystyle \\left[\\begin{matrix}l_{1} & 0 & 0\\\\0 & l_{2} & 0\\\\0 & 0 & l_{3}\\end{matrix}\\right]$"
      ],
      "text/plain": [
       "Matrix([\n",
       "[l1,  0,  0],\n",
       "[ 0, l2,  0],\n",
       "[ 0,  0, l3]])"
      ]
     },
     "execution_count": 15,
     "metadata": {},
     "output_type": "execute_result"
    }
   ],
   "source": [
    "F"
   ]
  },
  {
   "cell_type": "code",
   "execution_count": 16,
   "id": "e7e0592e",
   "metadata": {},
   "outputs": [],
   "source": [
    "B = F*Ft\n",
    "C = Ft*F\n",
    "\n",
    "i1b=sym.trace(B)\n",
    "i2b = B[0,0]*B[1,1] + B[1,1]*B[2,2] + B[2,2]*B[0,0] - B[0,1]**2 - B[1,2]**2 - B[2,0]**2\n",
    "\n",
    "i1c = sym.trace(C)\n",
    "i2c = C[0,0]*C[1,1] + C[1,1]*C[2,2] + C[2,2]*C[0,0] - C[0,1]**2 - C[1,2]**2 - C[2,0]**2"
   ]
  },
  {
   "cell_type": "code",
   "execution_count": 17,
   "id": "5ac43169",
   "metadata": {},
   "outputs": [
    {
     "data": {
      "text/latex": [
       "$\\displaystyle \\left[\\begin{matrix}l_{1}^{2} & 0 & 0\\\\0 & l_{2}^{2} & 0\\\\0 & 0 & l_{3}^{2}\\end{matrix}\\right]$"
      ],
      "text/plain": [
       "Matrix([\n",
       "[l1**2,     0,     0],\n",
       "[    0, l2**2,     0],\n",
       "[    0,     0, l3**2]])"
      ]
     },
     "execution_count": 17,
     "metadata": {},
     "output_type": "execute_result"
    }
   ],
   "source": [
    "B"
   ]
  },
  {
   "cell_type": "code",
   "execution_count": 18,
   "id": "e81f7c59",
   "metadata": {},
   "outputs": [
    {
     "data": {
      "text/latex": [
       "$\\displaystyle \\left[\\begin{matrix}l_{1}^{2} & 0 & 0\\\\0 & l_{2}^{2} & 0\\\\0 & 0 & l_{3}^{2}\\end{matrix}\\right]$"
      ],
      "text/plain": [
       "Matrix([\n",
       "[l1**2,     0,     0],\n",
       "[    0, l2**2,     0],\n",
       "[    0,     0, l3**2]])"
      ]
     },
     "execution_count": 18,
     "metadata": {},
     "output_type": "execute_result"
    }
   ],
   "source": [
    "C"
   ]
  },
  {
   "cell_type": "code",
   "execution_count": 19,
   "id": "5a22cf2a",
   "metadata": {},
   "outputs": [
    {
     "data": {
      "text/latex": [
       "$\\displaystyle l_{1}^{2} l_{2}^{2} + l_{1}^{2} l_{3}^{2} + l_{2}^{2} l_{3}^{2}$"
      ],
      "text/plain": [
       "l1**2*l2**2 + l1**2*l3**2 + l2**2*l3**2"
      ]
     },
     "execution_count": 19,
     "metadata": {},
     "output_type": "execute_result"
    }
   ],
   "source": [
    "i2b"
   ]
  },
  {
   "cell_type": "code",
   "execution_count": 20,
   "id": "7f523286",
   "metadata": {},
   "outputs": [
    {
     "data": {
      "text/latex": [
       "$\\displaystyle l_{1}^{2} l_{2}^{2} + l_{1}^{2} l_{3}^{2} + l_{2}^{2} l_{3}^{2}$"
      ],
      "text/plain": [
       "l1**2*l2**2 + l1**2*l3**2 + l2**2*l3**2"
      ]
     },
     "execution_count": 20,
     "metadata": {},
     "output_type": "execute_result"
    }
   ],
   "source": [
    "i2c"
   ]
  }
 ],
 "metadata": {
  "kernelspec": {
   "display_name": "Python 3 (ipykernel)",
   "language": "python",
   "name": "python3"
  },
  "language_info": {
   "codemirror_mode": {
    "name": "ipython",
    "version": 3
   },
   "file_extension": ".py",
   "mimetype": "text/x-python",
   "name": "python",
   "nbconvert_exporter": "python",
   "pygments_lexer": "ipython3",
   "version": "3.8.8"
  }
 },
 "nbformat": 4,
 "nbformat_minor": 5
}
